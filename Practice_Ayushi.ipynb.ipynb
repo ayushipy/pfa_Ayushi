{
 "cells": [
  {
   "cell_type": "code",
   "execution_count": 1,
   "id": "fd722b50",
   "metadata": {},
   "outputs": [
    {
     "name": "stdout",
     "output_type": "stream",
     "text": [
      "0.625\n",
      "17\n"
     ]
    }
   ],
   "source": [
    "#.........Excercise 1........\n",
    "#example given\n",
    "print (5/8)\n",
    "\n",
    "#print th sum of 7 & 10\n",
    "#addition\n",
    "print(7+10)"
   ]
  },
  {
   "cell_type": "code",
   "execution_count": 3,
   "id": "55964785",
   "metadata": {},
   "outputs": [
    {
     "name": "stdout",
     "output_type": "stream",
     "text": [
      "10\n",
      "0\n",
      "15\n",
      "5.0\n",
      "4\n",
      "16\n"
     ]
    }
   ],
   "source": [
    "print (5+5)\n",
    "#adding\n",
    "print(5-5)\n",
    "#subtracting\n",
    "print(3*5)\n",
    "#multiplying\n",
    "print(10/2)\n",
    "#division\n",
    "print(18%7)\n",
    "#modulus\n",
    "print(4**2)\n",
    "#exponent"
   ]
  },
  {
   "cell_type": "code",
   "execution_count": 13,
   "id": "068199f7",
   "metadata": {},
   "outputs": [
    {
     "name": "stdout",
     "output_type": "stream",
     "text": [
      "Money earned in interest is :  1750.0000000000002\n",
      "Toatal Value :  6750.0\n"
     ]
    }
   ],
   "source": [
    "P = 5000 \n",
    "R = 0.07 \n",
    "T = 5 \n",
    "#assigned the values for p,r & t\n",
    "SI= P*R*T \n",
    "#money earned by John in interest\n",
    "print( \"Money earned in interest is : \", SI)\n",
    "\n",
    "A = P + SI\n",
    "#total value of his saving account using simple interest\n",
    "print( \"Total Value : \", A)"
   ]
  },
  {
   "cell_type": "code",
   "execution_count": 19,
   "id": "d505b2ef",
   "metadata": {},
   "outputs": [
    {
     "name": "stdout",
     "output_type": "stream",
     "text": [
      "Time is  7.0 Years\n"
     ]
    }
   ],
   "source": [
    "A = 4872\n",
    "P = 8000\n",
    "R = 0.087\n",
    "#assigned the values for p,r & a\n",
    "T  = A / (P*R) \n",
    "print(\"Time is \",T,\"Years\")"
   ]
  },
  {
   "cell_type": "code",
   "execution_count": 22,
   "id": "cfd4cab7",
   "metadata": {},
   "outputs": [
    {
     "name": "stdout",
     "output_type": "stream",
     "text": [
      "Rate of interest is :  6.4 %\n"
     ]
    }
   ],
   "source": [
    "I = 768\n",
    "T = 4\n",
    "P = 3000\n",
    "#assigned the values for Interest ,rate & principal\n",
    "R = I / (P*T)\n",
    "print(\"Rate of interest is : \" , R*100, '%')"
   ]
  },
  {
   "cell_type": "code",
   "execution_count": 23,
   "id": "8e677fe0",
   "metadata": {
    "scrolled": true
   },
   "outputs": [
    {
     "name": "stdout",
     "output_type": "stream",
     "text": [
      "Principal taken : 100\n",
      "Rate taken : 0.01\n",
      "Time taken : 7\n",
      "Amount after 7 years is  107.21353521070101\n"
     ]
    }
   ],
   "source": [
    "P = input(\"Principal taken : \")\n",
    "R = input(\"Rate taken : \")\n",
    "T = input(\"Time taken : \")\n",
    "CI = float(P)*(1 + float(R))**float(T)\n",
    "#Amount after 7 years calculated using compound interest\n",
    "print ('Amount after 7 years is ', CI)"
   ]
  },
  {
   "cell_type": "code",
   "execution_count": 18,
   "id": "9e343f4c",
   "metadata": {
    "scrolled": true
   },
   "outputs": [
    {
     "name": "stdout",
     "output_type": "stream",
     "text": [
      "100\n",
      "<class 'int'>\n"
     ]
    }
   ],
   "source": [
    "#.........Exercise 2.........\n",
    "\n",
    "\n",
    "\n",
    "\n",
    "#creating variable savings \n",
    "savings  = 100\n",
    "print (savings)\n",
    "print(type(savings))"
   ]
  },
  {
   "cell_type": "code",
   "execution_count": 17,
   "id": "0670644e",
   "metadata": {},
   "outputs": [
    {
     "name": "stdout",
     "output_type": "stream",
     "text": [
      "<class 'float'>\n",
      "194.87171000000012\n"
     ]
    }
   ],
   "source": [
    "#creating variable savings \n",
    "savings  = 100\n",
    "#creating variable growth_multiplier \n",
    "growth_multiplier =  1.1\n",
    "print(type(growth_multiplier))\n",
    "\n",
    "#creating variable result\n",
    "result = (100* 1.1**7)\n",
    "print(result)"
   ]
  },
  {
   "cell_type": "code",
   "execution_count": 13,
   "id": "055924cf",
   "metadata": {},
   "outputs": [],
   "source": [
    "#creating a string \n",
    "desc = \"Compound Interest\"\n",
    "\n",
    "#creating a boolean profitable with the value true\n",
    "profitable = True "
   ]
  },
  {
   "cell_type": "code",
   "execution_count": 16,
   "id": "7d5ef044",
   "metadata": {},
   "outputs": [
    {
     "name": "stdout",
     "output_type": "stream",
     "text": [
      "<class 'float'>\n",
      "<class 'str'>\n",
      "<class 'bool'>\n"
     ]
    }
   ],
   "source": [
    "A = 10.7\n",
    "#to know the data set type of A\n",
    "print(type (A))\n",
    "\n",
    "B = \"This is python course\" \n",
    "#to know the data set type of B\n",
    "print(type (B))\n",
    "\n",
    "C = False\n",
    "#to know the data set type of C\n",
    "print(type (C)"
   ]
  },
  {
   "cell_type": "code",
   "execution_count": 39,
   "id": "2f982fb0",
   "metadata": {},
   "outputs": [
    {
     "name": "stdout",
     "output_type": "stream",
     "text": [
      "110.00000000000001\n"
     ]
    },
    {
     "data": {
      "text/plain": [
       "float"
      ]
     },
     "execution_count": 39,
     "metadata": {},
     "output_type": "execute_result"
    }
   ],
   "source": [
    "savings  = 100\n",
    "growth_multiplier =  1.1\n",
    "year1 = print(float(savings * growth_multiplier))\n",
    "#to know the data set type of growth_multiplier\n",
    "type(growth_multiplier)"
   ]
  },
  {
   "cell_type": "code",
   "execution_count": 3,
   "id": "2a422325",
   "metadata": {},
   "outputs": [
    {
     "name": "stdout",
     "output_type": "stream",
     "text": [
      "Compound InterestCompound Interest\n"
     ]
    }
   ],
   "source": [
    "desc = \"Compound Interest\"\n",
    "#adding double string value\n",
    "doubledesc = desc + desc \n",
    "print(doubledesc)"
   ]
  },
  {
   "cell_type": "code",
   "execution_count": 17,
   "id": "76419c3f",
   "metadata": {},
   "outputs": [
    {
     "name": "stdout",
     "output_type": "stream",
     "text": [
      "I started with $100 and now have $194.87171000000012. Awesome!\n"
     ]
    }
   ],
   "source": [
    "savings = 100 \n",
    "results = (savings*1.10**7)\n",
    "print(\"I started with $\"+ saving + \" and now have $\"+ str(results) + \". Awesome!\")"
   ]
  },
  {
   "cell_type": "code",
   "execution_count": 18,
   "id": "89da7746",
   "metadata": {},
   "outputs": [
    {
     "name": "stdout",
     "output_type": "stream",
     "text": [
      "6.2831852\n"
     ]
    }
   ],
   "source": [
    "pi_string = \"3.1415926\"\n",
    "#converting the string value into float\n",
    "pi_float = float(pi_string)\n",
    "double_pi = (pi_float*2)\n",
    "print(double_pi)"
   ]
  },
  {
   "cell_type": "code",
   "execution_count": 23,
   "id": "26a6a7e6",
   "metadata": {},
   "outputs": [
    {
     "ename": "NameError",
     "evalue": "name 'srt' is not defined",
     "output_type": "error",
     "traceback": [
      "\u001b[1;31m---------------------------------------------------------------------------\u001b[0m",
      "\u001b[1;31mNameError\u001b[0m                                 Traceback (most recent call last)",
      "\u001b[1;32m<ipython-input-23-da35ceee977d>\u001b[0m in \u001b[0;36m<module>\u001b[1;34m\u001b[0m\n\u001b[1;32m----> 1\u001b[1;33m \u001b[1;33m(\u001b[0m\u001b[1;34m\" I can add integers ,like\"\u001b[0m \u001b[1;33m+\u001b[0m\u001b[0msrt\u001b[0m\u001b[1;33m(\u001b[0m\u001b[1;36m5\u001b[0m\u001b[1;33m)\u001b[0m \u001b[1;33m+\u001b[0m \u001b[1;34m\" to strings.\"\u001b[0m\u001b[1;33m)\u001b[0m\u001b[1;33m\u001b[0m\u001b[1;33m\u001b[0m\u001b[0m\n\u001b[0m",
      "\u001b[1;31mNameError\u001b[0m: name 'srt' is not defined"
     ]
    }
   ],
   "source": [
    "(\" I can add integers ,like\" +srt(5) + \" to strings.\")"
   ]
  },
  {
   "cell_type": "code",
   "execution_count": 24,
   "id": "a9d8aa30",
   "metadata": {},
   "outputs": [
    {
     "data": {
      "text/plain": [
       "' I said  Hey  Hey  Hey!'"
      ]
     },
     "execution_count": 24,
     "metadata": {},
     "output_type": "execute_result"
    }
   ],
   "source": [
    "(\" I said \" + (\" Hey \"*2) + \" Hey!\")"
   ]
  },
  {
   "cell_type": "code",
   "execution_count": 25,
   "id": "001d0b99",
   "metadata": {},
   "outputs": [
    {
     "ename": "NameError",
     "evalue": "name 'true' is not defined",
     "output_type": "error",
     "traceback": [
      "\u001b[1;31m---------------------------------------------------------------------------\u001b[0m",
      "\u001b[1;31mNameError\u001b[0m                                 Traceback (most recent call last)",
      "\u001b[1;32m<ipython-input-25-82a51d5c1a7f>\u001b[0m in \u001b[0;36m<module>\u001b[1;34m\u001b[0m\n\u001b[1;32m----> 1\u001b[1;33m \u001b[0mtrue\u001b[0m\u001b[1;33m+\u001b[0m\u001b[0mfalse\u001b[0m\u001b[1;33m\u001b[0m\u001b[1;33m\u001b[0m\u001b[0m\n\u001b[0m",
      "\u001b[1;31mNameError\u001b[0m: name 'true' is not defined"
     ]
    }
   ],
   "source": [
    "true+false"
   ]
  },
  {
   "cell_type": "code",
   "execution_count": 33,
   "id": "d082365d",
   "metadata": {},
   "outputs": [
    {
     "ename": "TypeError",
     "evalue": "can only concatenate str (not \"int\") to str",
     "output_type": "error",
     "traceback": [
      "\u001b[1;31m---------------------------------------------------------------------------\u001b[0m",
      "\u001b[1;31mTypeError\u001b[0m                                 Traceback (most recent call last)",
      "\u001b[1;32m<ipython-input-33-ed6df5ef2678>\u001b[0m in \u001b[0;36m<module>\u001b[1;34m\u001b[0m\n\u001b[1;32m----> 1\u001b[1;33m \u001b[1;34m\"The correct answer to this multiple choice exercise is answer number\"\u001b[0m \u001b[1;33m+\u001b[0m \u001b[1;36m2\u001b[0m\u001b[1;33m\u001b[0m\u001b[1;33m\u001b[0m\u001b[0m\n\u001b[0m",
      "\u001b[1;31mTypeError\u001b[0m: can only concatenate str (not \"int\") to str"
     ]
    }
   ],
   "source": [
    "\"The correct answer to this multiple choice exercise is answer number\" + 2"
   ]
  },
  {
   "cell_type": "code",
   "execution_count": 12,
   "id": "3df00201",
   "metadata": {},
   "outputs": [
    {
     "name": "stdout",
     "output_type": "stream",
     "text": [
      "Enter a Number: 6\n",
      "the number is even \n"
     ]
    }
   ],
   "source": [
    "#........Exercise 3..........\n",
    "\n",
    "\n",
    "\n",
    "\n",
    "# Python Program to find whether the number is even or not \n",
    "even = input(\"Enter a Number: \")\n",
    "num = int(even)\n",
    "if num%2 == 0:\n",
    "    print('the number is even ')\n",
    "else :\n",
    "    print('enter yet')"
   ]
  },
  {
   "cell_type": "code",
   "execution_count": 36,
   "id": "3bd968f2",
   "metadata": {},
   "outputs": [
    {
     "name": "stdout",
     "output_type": "stream",
     "text": [
      "enter your temperature30\n",
      "degree Fahrenheit is:  86.0\n"
     ]
    }
   ],
   "source": [
    "# Python Program to convert temperature in celsius to fahrenheit\n",
    "celsius = float(input('enter your temperature'))\n",
    "# calculate fahrenheit\n",
    "fahrenheit = (celsius * 1.8) + 32\n",
    "print('degree Fahrenheit is: ',fahrenheit)\n"
   ]
  },
  {
   "cell_type": "code",
   "execution_count": 2,
   "id": "59da9352",
   "metadata": {},
   "outputs": [
    {
     "name": "stdout",
     "output_type": "stream",
     "text": [
      "enter S1 4\n",
      "enter S2 3\n",
      "enter S3 6\n",
      "Area of triangle is:  5.332682251925386\n"
     ]
    }
   ],
   "source": [
    "#importing a math library\n",
    "import math\n",
    "\n",
    "#taking the values for all 3 sides of a triangle \n",
    "a = float(input(\"enter S1 \"))\n",
    "b = float(input(\"enter S2 \"))\n",
    "c = float(input(\"enter S3 \"))\n",
    "s = (a+b+c)/2\n",
    "\n",
    "#calculating the area\n",
    "area = math.sqrt(s*(s-a)*(s-b)*(s-c))\n",
    "\n",
    "print(\"Area of triangle is: \", area)"
   ]
  },
  {
   "cell_type": "code",
   "execution_count": 6,
   "id": "9898ce45",
   "metadata": {},
   "outputs": [
    {
     "name": "stdout",
     "output_type": "stream",
     "text": [
      "radius: 3.14\n",
      "pi is  3.141592653589793\n",
      "calculating circumfrence of circle  19.729201864543903\n",
      "calculating area of circle  30.974846927333925\n"
     ]
    }
   ],
   "source": [
    "#defining a variable for radius \n",
    "r = float(input(\"radius: \"))\n",
    "\n",
    "#printing the value of 5\n",
    "print(\"pi is \", math.pi)\n",
    "\n",
    "#calculating circumfrence of circle\n",
    "c = 2*math.pi*r\n",
    "\n",
    "#calculating area of circle \n",
    "a =  (math.pi)*r**2\n",
    "\n",
    "print(\"calculating circumfrence of circle \", c)\n",
    "print(\"calculating area of circle \", a)"
   ]
  },
  {
   "cell_type": "code",
   "execution_count": 10,
   "id": "a1453c19",
   "metadata": {
    "scrolled": true
   },
   "outputs": [
    {
     "name": "stdout",
     "output_type": "stream",
     "text": [
      "Enter the number 45\n",
      "multiple of 5\n"
     ]
    }
   ],
   "source": [
    "#checking if num is a multiple of 5\n",
    "num = int(input(\"Enter the number \"))\n",
    "if num%5 == 0 :\n",
    "    print(\"multiple of 5\")\n",
    "else : \n",
    "    print(\"not a multiple of 5\")"
   ]
  },
  {
   "cell_type": "code",
   "execution_count": null,
   "id": "af2cef85",
   "metadata": {},
   "outputs": [],
   "source": []
  },
  {
   "cell_type": "code",
   "execution_count": null,
   "id": "099c4c00",
   "metadata": {},
   "outputs": [],
   "source": []
  }
 ],
 "metadata": {
  "kernelspec": {
   "display_name": "Python 3",
   "language": "python",
   "name": "python3"
  },
  "language_info": {
   "codemirror_mode": {
    "name": "ipython",
    "version": 3
   },
   "file_extension": ".py",
   "mimetype": "text/x-python",
   "name": "python",
   "nbconvert_exporter": "python",
   "pygments_lexer": "ipython3",
   "version": "3.8.8"
  }
 },
 "nbformat": 4,
 "nbformat_minor": 5
}
