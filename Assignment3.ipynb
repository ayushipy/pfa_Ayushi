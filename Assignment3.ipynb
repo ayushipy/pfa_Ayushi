{
 "cells": [
  {
   "cell_type": "code",
   "execution_count": 7,
   "id": "900574e6",
   "metadata": {},
   "outputs": [
    {
     "name": "stdout",
     "output_type": "stream",
     "text": [
      "[12, 35, 9, 56, 24]\n",
      "[24, 35, 9, 56, 12]\n"
     ]
    }
   ],
   "source": [
    "#taking an empty list and appending it\n",
    "err = []\n",
    "err.append(12)\n",
    "err.append(35)\n",
    "err.append(9)\n",
    "err.append(56)\n",
    "err.append(24)\n",
    "print(err)\n",
    "err[0]=24\n",
    "err[4]=12\n",
    "print(err)"
   ]
  },
  {
   "cell_type": "code",
   "execution_count": 6,
   "id": "c165caae",
   "metadata": {},
   "outputs": [
    {
     "name": "stdout",
     "output_type": "stream",
     "text": [
      "the length of list is:  5\n"
     ]
    }
   ],
   "source": [
    "#find the length of list\n",
    "st = [1,4,5,7,8]\n",
    "print(\"the length of list is: \", len(st))"
   ]
  },
  {
   "cell_type": "code",
   "execution_count": 8,
   "id": "331439d4",
   "metadata": {},
   "outputs": [
    {
     "name": "stdout",
     "output_type": "stream",
     "text": [
      "The length of list is:  4\n"
     ]
    }
   ],
   "source": [
    "#an empty list appending output in a list. and finding the length of the list too\n",
    "st = []\n",
    "st.append(\"Geeks\")\n",
    "st.append(\"Are\")\n",
    "st.append(\"For\")\n",
    "st.append(\"Geeks\")\n",
    "print(\"The length of list is: \", len(st))"
   ]
  },
  {
   "cell_type": "code",
   "execution_count": 3,
   "id": "611b6417",
   "metadata": {},
   "outputs": [
    {
     "name": "stdout",
     "output_type": "stream",
     "text": [
      "enter number a here : -9\n",
      "enter number a here : -7\n",
      "maximum of the given numbers is :  -9\n",
      "maximum of the given numbers is :  -7\n"
     ]
    }
   ],
   "source": [
    "a = input(\"enter number a here : \")\n",
    "b = input(\"enter number a here : \")\n",
    "#printing maximum and minimum out of two nos. \n",
    "print(\"maximum of the given numbers is : \", max(a,b))\n",
    "print(\"maximum of the given numbers is : \", min(a,b))"
   ]
  },
  {
   "cell_type": "code",
   "execution_count": 6,
   "id": "bac4fcc5",
   "metadata": {},
   "outputs": [
    {
     "name": "stdout",
     "output_type": "stream",
     "text": [
      "[1, 2, 3]\n",
      "[3, 2, 1]\n"
     ]
    }
   ],
   "source": [
    "#taking an empty list and appending it\n",
    "err = []\n",
    "err.append(1)\n",
    "err.append(2)\n",
    "err.append(3)\n",
    "print(err)\n",
    "err[0] = 3\n",
    "err[2] = 1\n",
    "print(err)"
   ]
  },
  {
   "cell_type": "code",
   "execution_count": null,
   "id": "fbefe73e",
   "metadata": {},
   "outputs": [],
   "source": []
  }
 ],
 "metadata": {
  "kernelspec": {
   "display_name": "Python 3",
   "language": "python",
   "name": "python3"
  },
  "language_info": {
   "codemirror_mode": {
    "name": "ipython",
    "version": 3
   },
   "file_extension": ".py",
   "mimetype": "text/x-python",
   "name": "python",
   "nbconvert_exporter": "python",
   "pygments_lexer": "ipython3",
   "version": "3.8.8"
  }
 },
 "nbformat": 4,
 "nbformat_minor": 5
}
