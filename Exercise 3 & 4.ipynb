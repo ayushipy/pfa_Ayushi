{
 "cells": [
  {
   "cell_type": "code",
   "execution_count": null,
   "id": "45b295c5",
   "metadata": {},
   "outputs": [],
   "source": [
    ".................Exercise 3................."
   ]
  },
  {
   "cell_type": "code",
   "execution_count": 6,
   "id": "77261a5c",
   "metadata": {},
   "outputs": [
    {
     "name": "stdout",
     "output_type": "stream",
     "text": [
      " Enter a number: 66\n",
      "It is an Even number \n"
     ]
    }
   ],
   "source": [
    "#to check wheather no. entered is odd or even\n",
    "ss =  float(input(\" Enter a number: \"))\n",
    "if (ss%2 == 0) :\n",
    "    print(\"It is an Even number \")\n",
    "else:\n",
    "    print(\"It is a Odd number \")"
   ]
  },
  {
   "cell_type": "markdown",
   "id": "113e5091",
   "metadata": {},
   "source": []
  },
  {
   "cell_type": "code",
   "execution_count": 5,
   "id": "2d9b1de7",
   "metadata": {},
   "outputs": [
    {
     "name": "stdout",
     "output_type": "stream",
     "text": [
      "Enter a number 55\n",
      "55 is a multiple of 5 \n"
     ]
    }
   ],
   "source": [
    "#to check whether the no. is a multiple of 5 or not\n",
    "m =  int(input(\"Enter a number \"))\n",
    "if (m%5 == 0) :\n",
    "    print(m, \"is a multiple of 5 \")\n",
    "else:\n",
    "    print(m, \"is not a multiple of 5  \")\n"
   ]
  },
  {
   "cell_type": "code",
   "execution_count": 13,
   "id": "11ec8139",
   "metadata": {},
   "outputs": [
    {
     "name": "stdout",
     "output_type": "stream",
     "text": [
      "Number is smaller than 10\n",
      "This statement will always be executed\n"
     ]
    }
   ],
   "source": [
    "#to check if no. is smaller than 10 or not\n",
    "num = 5\n",
    "if num <10 :\n",
    "    print ( \"Number is smaller than 10\")\n",
    "print(\"This statement will always be executed\" )    \n"
   ]
  },
  {
   "cell_type": "code",
   "execution_count": 20,
   "id": "ebef5423",
   "metadata": {
    "scrolled": false
   },
   "outputs": [
    {
     "name": "stdout",
     "output_type": "stream",
     "text": [
      "Enter passing score: 60\n",
      "Enter your score: 55\n",
      "you need to work hard\n"
     ]
    }
   ],
   "source": [
    "#to check whether the score is more or less than passing score \n",
    "passing_score = float(input(\"Enter passing score: \"))\n",
    "my_score = float(input(\"Enter your score: \"))\n",
    "if (my_score >= passing_score):\n",
    "    print(\"Congratulations! You have passed your exam\")\n",
    "else :\n",
    "    print(\"you need to work hard\")  \n",
    "    "
   ]
  },
  {
   "cell_type": "code",
   "execution_count": 22,
   "id": "df31e470",
   "metadata": {},
   "outputs": [
    {
     "name": "stdout",
     "output_type": "stream",
     "text": [
      "number is positive\n",
      "Number is less than 10\n"
     ]
    }
   ],
   "source": [
    "#if a no. is positive and if it is greater or less than 10\n",
    "num = 5\n",
    "if (num >= 0) :\n",
    "    print(\"number is positive\")\n",
    "if (num < 10) :   \n",
    "    print(\"Number is less than 10\")"
   ]
  },
  {
   "cell_type": "code",
   "execution_count": 21,
   "id": "1b21a6f4",
   "metadata": {},
   "outputs": [
    {
     "name": "stdout",
     "output_type": "stream",
     "text": [
      "Enter a number -5\n",
      "Number is less than 0 \n"
     ]
    }
   ],
   "source": [
    "#if a no. is greater or less than zero\n",
    "n =  int(input(\"Enter a number \"))\n",
    "if (n < 0 ) :\n",
    "    print(\"Number is less than 0 \")\n",
    "elif n > 0 :\n",
    "    print('Number is greater than zero ')"
   ]
  },
  {
   "cell_type": "code",
   "execution_count": 26,
   "id": "5a03975d",
   "metadata": {
    "scrolled": true
   },
   "outputs": [
    {
     "name": "stdout",
     "output_type": "stream",
     "text": [
      "Enter 1st no.: 10\n",
      "Enter 2nd no.: 20\n",
      "Enter 3rd no.: 30\n",
      "All the conditions are true!! \n"
     ]
    }
   ],
   "source": [
    "#if a no. entered is equal to particular no. or not \n",
    "num1 = float(input(\"Enter 1st no.: \"))\n",
    "num2 = float(input(\"Enter 2nd no.: \"))\n",
    "num3 = float(input(\"Enter 3rd no.: \"))\n",
    "if (num1 == 10 and num2 == 20 and num3 == 30) : \n",
    "        print(\"All the conditions are true!! \") "
   ]
  },
  {
   "cell_type": "code",
   "execution_count": 29,
   "id": "95a7a029",
   "metadata": {},
   "outputs": [
    {
     "name": "stdout",
     "output_type": "stream",
     "text": [
      "Enter a fruit name- Mango\n",
      "It's a fruit\n"
     ]
    }
   ],
   "source": [
    "#if ther input entered is equal to particular input or not \n",
    "fruitName = str(input(\"Enter a fruit name- \"))\n",
    "if (fruitName == \"Mango\" or fruitName == \"Apple\" or fruitName == \"Grapes\") : \n",
    "    print(\"It's a fruit\")"
   ]
  },
  {
   "cell_type": "code",
   "execution_count": null,
   "id": "9ec1080b",
   "metadata": {},
   "outputs": [],
   "source": [
    ".............Exercise 4..........."
   ]
  },
  {
   "cell_type": "markdown",
   "id": "9c4f89e2",
   "metadata": {},
   "source": [
    "num = int(input(\"Enter Set of Integers : \"))\n",
    "sum = 0\n",
    "count = 0\n",
    "for i in range(num) :\n",
    "    count = count +1\n",
    "    sum = sum + num\n",
    "    avg = sum / count\n",
    "    #print( count , avg )\n",
    "print(\"Average is: \",avg )"
   ]
  },
  {
   "cell_type": "markdown",
   "id": "f2f66582",
   "metadata": {},
   "source": [
    "#### "
   ]
  },
  {
   "cell_type": "code",
   "execution_count": 1,
   "id": "1e8840e8",
   "metadata": {
    "scrolled": true
   },
   "outputs": [
    {
     "name": "stdout",
     "output_type": "stream",
     "text": [
      "Enter Set of Integers : 56\n",
      "Enter Set of Integers : 44\n",
      "Enter Set of Integers : 33\n",
      "Enter Set of Integers : 65\n",
      "Enter Set of Integers : 657\n",
      "Average is:  171.0\n"
     ]
    }
   ],
   "source": [
    "#numbers are asked to input in a list to calculate the average of the list\n",
    "sum = 0 \n",
    "count = 0\n",
    "list = []\n",
    "for i in range(5) :\n",
    "    num = int(input(\"Enter Set of Integers : \")) \n",
    "    count = count +1 \n",
    "    sum = sum + num \n",
    "    avg = sum / count \n",
    "    #print( count , avg ) \n",
    "print(\"Average is: \",avg)"
   ]
  },
  {
   "cell_type": "markdown",
   "id": "9cab1b3e",
   "metadata": {},
   "source": []
  },
  {
   "cell_type": "code",
   "execution_count": 2,
   "id": "52a3b359",
   "metadata": {},
   "outputs": [
    {
     "name": "stdout",
     "output_type": "stream",
     "text": [
      "mango\n",
      "guava\n",
      "kiwi\n",
      "watermelon\n",
      "peaches\n"
     ]
    }
   ],
   "source": [
    "#a list of fruits is asked to enter \n",
    "fruits  = ['mango', 'guava', 'kiwi','watermelon', 'peaches']\n",
    "for s in fruits :\n",
    "    print(s)"
   ]
  },
  {
   "cell_type": "code",
   "execution_count": null,
   "id": "d280833f",
   "metadata": {},
   "outputs": [],
   "source": []
  }
 ],
 "metadata": {
  "kernelspec": {
   "display_name": "Python 3",
   "language": "python",
   "name": "python3"
  },
  "language_info": {
   "codemirror_mode": {
    "name": "ipython",
    "version": 3
   },
   "file_extension": ".py",
   "mimetype": "text/x-python",
   "name": "python",
   "nbconvert_exporter": "python",
   "pygments_lexer": "ipython3",
   "version": "3.8.8"
  }
 },
 "nbformat": 4,
 "nbformat_minor": 5
}
